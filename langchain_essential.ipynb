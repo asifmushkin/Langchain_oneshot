{
 "cells": [
  {
   "cell_type": "code",
   "execution_count": 1,
   "metadata": {},
   "outputs": [],
   "source": [
    "import os"
   ]
  },
  {
   "cell_type": "code",
   "execution_count": 2,
   "metadata": {},
   "outputs": [],
   "source": [
    "import warnings\n",
    "warnings.filterwarnings(\"ignore\")"
   ]
  },
  {
   "cell_type": "code",
   "execution_count": 3,
   "metadata": {},
   "outputs": [],
   "source": [
    "from dotenv import load_dotenv"
   ]
  },
  {
   "cell_type": "code",
   "execution_count": 4,
   "metadata": {},
   "outputs": [
    {
     "data": {
      "text/plain": [
       "True"
      ]
     },
     "execution_count": 4,
     "metadata": {},
     "output_type": "execute_result"
    }
   ],
   "source": [
    "load_dotenv()"
   ]
  },
  {
   "cell_type": "markdown",
   "metadata": {},
   "source": [
    "\n",
    "### Loading the model and testing with the simple message"
   ]
  },
  {
   "cell_type": "code",
   "execution_count": 5,
   "metadata": {},
   "outputs": [],
   "source": [
    "from langchain_core.messages import HumanMessage, AIMessage, SystemMessage"
   ]
  },
  {
   "cell_type": "code",
   "execution_count": 6,
   "metadata": {},
   "outputs": [],
   "source": [
    "from langchain_google_genai import ChatGoogleGenerativeAI"
   ]
  },
  {
   "cell_type": "code",
   "execution_count": 7,
   "metadata": {},
   "outputs": [],
   "source": [
    "model = ChatGoogleGenerativeAI(model=\"gemini-pro\",temperature=0.7, convert_system_message_to_human=True)"
   ]
  },
  {
   "cell_type": "code",
   "execution_count": 8,
   "metadata": {},
   "outputs": [],
   "source": [
    "message = [SystemMessage(content=\"Hi you are a nice bot\"),HumanMessage(content=\"Hi i am Asif\")]"
   ]
  },
  {
   "cell_type": "code",
   "execution_count": 9,
   "metadata": {},
   "outputs": [],
   "source": [
    "response_1 = model.invoke(message)"
   ]
  },
  {
   "cell_type": "code",
   "execution_count": 10,
   "metadata": {},
   "outputs": [
    {
     "data": {
      "text/plain": [
       "AIMessage(content=\"Hello Asif, it's nice to meet you. I'm a bot, but I'm happy to help you with anything you need.\", response_metadata={'prompt_feedback': {'block_reason': 0, 'safety_ratings': []}, 'finish_reason': 'STOP', 'safety_ratings': [{'category': 'HARM_CATEGORY_SEXUALLY_EXPLICIT', 'probability': 'NEGLIGIBLE', 'blocked': False}, {'category': 'HARM_CATEGORY_HATE_SPEECH', 'probability': 'NEGLIGIBLE', 'blocked': False}, {'category': 'HARM_CATEGORY_HARASSMENT', 'probability': 'NEGLIGIBLE', 'blocked': False}, {'category': 'HARM_CATEGORY_DANGEROUS_CONTENT', 'probability': 'NEGLIGIBLE', 'blocked': False}]}, id='run-fb629c33-9836-4e36-abb8-ad0981baff3f-0', usage_metadata={'input_tokens': 12, 'output_tokens': 31, 'total_tokens': 43})"
      ]
     },
     "execution_count": 10,
     "metadata": {},
     "output_type": "execute_result"
    }
   ],
   "source": [
    "response_1"
   ]
  },
  {
   "cell_type": "code",
   "execution_count": 11,
   "metadata": {},
   "outputs": [
    {
     "data": {
      "text/plain": [
       "\"Hello Asif, it's nice to meet you. I'm a bot, but I'm happy to help you with anything you need.\""
      ]
     },
     "execution_count": 11,
     "metadata": {},
     "output_type": "execute_result"
    }
   ],
   "source": [
    "response_1.content"
   ]
  },
  {
   "cell_type": "markdown",
   "metadata": {},
   "source": [
    "#### Output parser"
   ]
  },
  {
   "cell_type": "code",
   "execution_count": 12,
   "metadata": {},
   "outputs": [],
   "source": [
    "from langchain_core.output_parsers import StrOutputParser"
   ]
  },
  {
   "cell_type": "code",
   "execution_count": 13,
   "metadata": {},
   "outputs": [],
   "source": [
    "parser = StrOutputParser()"
   ]
  },
  {
   "cell_type": "code",
   "execution_count": 14,
   "metadata": {},
   "outputs": [
    {
     "data": {
      "text/plain": [
       "\"Hi Asif, it's nice to meet you. I'm a bot, but I'm always happy to chat.\""
      ]
     },
     "execution_count": 14,
     "metadata": {},
     "output_type": "execute_result"
    }
   ],
   "source": [
    "parser.invoke(model.invoke(message))"
   ]
  },
  {
   "cell_type": "code",
   "execution_count": 15,
   "metadata": {},
   "outputs": [],
   "source": [
    "message_2 = [SystemMessage(content=\"Hi you are a nice urdu poet\"),HumanMessage(content=\"can you write a poem for kids?\")]"
   ]
  },
  {
   "cell_type": "code",
   "execution_count": 16,
   "metadata": {},
   "outputs": [
    {
     "data": {
      "text/plain": [
       "'**بچوں کا دل**\\n\\nہم بچے ہیں، بہت معصوم ہیں،\\nدل ہمارے صاف ستھرے ہیں،\\nہماری باتوں میں سچائی ہے،\\nہماری ہنسی میں خوشی ہے،\\n\\nہم کھیلتے کودتے گاتے ہیں،\\nاپنی دنیا میں ہم راجے ہیں،\\nہماری دنیا رنگین ہے،\\nہماری زندگی خوشگوار ہے،\\n\\nہم بڑوں کا احترام کرتے ہیں،\\nان کی باتیں مانتے ہیں،\\nان سے پیار کرتے ہیں،\\nان کی عزت کرتے ہیں،\\n\\nہم سب کے دوست ہیں،\\nہم سب سے محبت کرتے ہیں،\\nہم سب کے ساتھ مل کر رہتے ہیں،\\nہم سب کی مدد کرتے ہیں،\\n\\nہم بچے ہیں، ہم مستقبل ہیں،\\nہماری امیدیں روشن ہیں،\\nہمارے خواب بڑے ہیں،\\nہم انہیں پورا کریں گے،\\n\\nہم بچے ہیں، ہم پاکستان ہیں،\\nہم اسے ترقی دیں گے،\\nاسے خوشحال کریں گے،\\nاسے ایک عظیم ملک بنائیں گے،\\n\\nآؤ بچو، ہم سب مل کر،\\nاپنا مستقبل روشن کریں،\\nاپنے ملک کو ترقی دیں،\\nاور اسے ایک عظیم ملک بنائیں۔'"
      ]
     },
     "execution_count": 16,
     "metadata": {},
     "output_type": "execute_result"
    }
   ],
   "source": [
    "parser.invoke(model.invoke(message_2))"
   ]
  },
  {
   "cell_type": "markdown",
   "metadata": {},
   "source": [
    "#### chaining with LCEL"
   ]
  },
  {
   "cell_type": "code",
   "execution_count": 17,
   "metadata": {},
   "outputs": [
    {
     "data": {
      "text/plain": [
       "'Hi, Asif. I am glad to meet you.'"
      ]
     },
     "execution_count": 17,
     "metadata": {},
     "output_type": "execute_result"
    }
   ],
   "source": [
    "chain_1 = model | parser\n",
    "chain_1.invoke(message)"
   ]
  },
  {
   "cell_type": "code",
   "execution_count": 18,
   "metadata": {},
   "outputs": [
    {
     "data": {
      "text/plain": [
       "'**بچوں کی دنیا**\\n\\nچھوٹی سی دنیا، رنگ برنگی،\\nکھیل کود اور ہنسی مذاقی،\\nبچے معصوم، دل شاد و آباد،\\nجنت کا ٹکڑا، دنیا کا سوغات۔\\n\\nپھولوں سے سجی، تتلیوں سے بھری،\\nپرندوں کی چہچہاہٹ، مٹھی بھر خوشی،\\nپریوں کی کہانی، خوابوں کی دنیا،\\nبچوں کا جہاں، جہاں خوشی رہتی۔\\n\\nگڑیوں سے کھیلنا، پتنگ اڑانا،\\nدوڑنا کودنا، ہلکی سی لڑائی،\\nمسکراہٹ چہرے پر، آنکھوں میں چمک،\\nبچپن کا لطف، زندگی کی بہارک۔\\n\\nسکول جانا، نئی چیزیں سیکھنا،\\nدوست بنانا، علم کا خزانہ بھرنا،\\nاساتذہ کی محبت، والدین کا پیار،\\nبچوں کی دنیا، جہاں سب کچھ پیارا۔\\n\\nبڑے ہوں گے تو یاد آئے گا،\\nیہ بچپن کا زمانہ، یہ لطف و بہار،\\nبچوں کی دنیا، جنت کا ٹکڑا،\\nایک خواب جیسا، یادوں کا خزانہ۔'"
      ]
     },
     "execution_count": 18,
     "metadata": {},
     "output_type": "execute_result"
    }
   ],
   "source": [
    "chain_2 = model | parser\n",
    "chain_1.invoke(message_2)"
   ]
  },
  {
   "cell_type": "markdown",
   "metadata": {},
   "source": [
    "### Prompt templating"
   ]
  },
  {
   "cell_type": "code",
   "execution_count": 19,
   "metadata": {},
   "outputs": [],
   "source": [
    "from langchain.prompts import ChatPromptTemplate"
   ]
  },
  {
   "cell_type": "code",
   "execution_count": 20,
   "metadata": {},
   "outputs": [],
   "source": [
    "prompt_template = ChatPromptTemplate.from_messages([\n",
    "    \"system\",\"translate the following into {language}\",\n",
    "    \"user\",\"{text}\"]\n",
    ")"
   ]
  },
  {
   "cell_type": "code",
   "execution_count": 21,
   "metadata": {},
   "outputs": [],
   "source": [
    "prompt = prompt_template.invoke({\"language\":\"italian\",\"text\":\"GenAI is the future of tech we must all learn\"})"
   ]
  },
  {
   "cell_type": "code",
   "execution_count": 22,
   "metadata": {},
   "outputs": [
    {
     "name": "stdout",
     "output_type": "stream",
     "text": [
      "messages=[HumanMessage(content='system'), HumanMessage(content='translate the following into italian'), HumanMessage(content='user'), HumanMessage(content='GenAI is the future of tech we must all learn')]\n"
     ]
    }
   ],
   "source": [
    "print(prompt)"
   ]
  },
  {
   "cell_type": "code",
   "execution_count": 23,
   "metadata": {},
   "outputs": [],
   "source": [
    "response = parser.invoke(model.invoke(prompt))"
   ]
  },
  {
   "cell_type": "code",
   "execution_count": 24,
   "metadata": {},
   "outputs": [
    {
     "data": {
      "text/plain": [
       "'GenAI è il futuro della tecnologia che tutti dobbiamo imparare'"
      ]
     },
     "execution_count": 24,
     "metadata": {},
     "output_type": "execute_result"
    }
   ],
   "source": [
    "response"
   ]
  },
  {
   "cell_type": "code",
   "execution_count": 25,
   "metadata": {},
   "outputs": [],
   "source": [
    "prompt_2= prompt_template.invoke({\"language\":\"german\",\"text\":\"GenAI is the future of tech we must all learn\"})"
   ]
  },
  {
   "cell_type": "code",
   "execution_count": 26,
   "metadata": {},
   "outputs": [
    {
     "data": {
      "text/plain": [
       "'GenAI ist die Zukunft der Technologie, die wir alle lernen müssen'"
      ]
     },
     "execution_count": 26,
     "metadata": {},
     "output_type": "execute_result"
    }
   ],
   "source": [
    "parser.invoke(model.invoke(prompt_2))"
   ]
  },
  {
   "cell_type": "markdown",
   "metadata": {},
   "source": [
    "## Applying chaining(LCEL)"
   ]
  },
  {
   "cell_type": "code",
   "execution_count": 27,
   "metadata": {},
   "outputs": [],
   "source": [
    "chain_1 = prompt_template | model | parser"
   ]
  },
  {
   "cell_type": "code",
   "execution_count": 28,
   "metadata": {},
   "outputs": [
    {
     "data": {
      "text/plain": [
       "'امیر ستر زوی به ټه کې واده کوي خو ما ته یې د ننوتلو بلنه نه ده ورکړې، ډېر غمجن یم خو هغه زما ښه ملګری دی، ما نموږم ولې ما ته بې پام کوي، ما ته دا ډېره نه خوښېږي'"
      ]
     },
     "execution_count": 28,
     "metadata": {},
     "output_type": "execute_result"
    }
   ],
   "source": [
    "chain_1.invoke({\"language\":\"pashto\",\"text\":\"Aamir the great boy gonna get to married soon but he did not invite me so sad although he is my good friend i dont understand why he ignore me, i dont like this really\"})"
   ]
  },
  {
   "cell_type": "markdown",
   "metadata": {},
   "source": [
    "### Agents"
   ]
  },
  {
   "cell_type": "code",
   "execution_count": 29,
   "metadata": {},
   "outputs": [],
   "source": [
    "from langgraph.checkpoint.memory import MemorySaver\n",
    "from langgraph.prebuilt import create_react_agent"
   ]
  },
  {
   "cell_type": "code",
   "execution_count": 30,
   "metadata": {},
   "outputs": [],
   "source": [
    "from langchain_community.tools.tavily_search import TavilySearchResults\n",
    "from langchain_core.messages import HumanMessage"
   ]
  },
  {
   "cell_type": "code",
   "execution_count": 31,
   "metadata": {},
   "outputs": [],
   "source": [
    "memory = MemorySaver()"
   ]
  },
  {
   "cell_type": "code",
   "execution_count": 32,
   "metadata": {},
   "outputs": [],
   "source": [
    "search = TavilySearchResults(max_results=2)"
   ]
  },
  {
   "cell_type": "code",
   "execution_count": 33,
   "metadata": {},
   "outputs": [],
   "source": [
    "tools = [search]"
   ]
  },
  {
   "cell_type": "code",
   "execution_count": 39,
   "metadata": {},
   "outputs": [
    {
     "name": "stderr",
     "output_type": "stream",
     "text": [
      "Key 'title' is not supported in schema, ignoring\n",
      "Key 'title' is not supported in schema, ignoring\n"
     ]
    }
   ],
   "source": [
    "agent_executor = create_react_agent(model,tools,checkpointer=memory)"
   ]
  },
  {
   "cell_type": "code",
   "execution_count": 40,
   "metadata": {},
   "outputs": [],
   "source": [
    "config = {\"configurable\":{\"thread_id\": \"chat123\"}}"
   ]
  },
  {
   "cell_type": "code",
   "execution_count": 46,
   "metadata": {},
   "outputs": [
    {
     "name": "stdout",
     "output_type": "stream",
     "text": [
      "{'agent': {'messages': [AIMessage(content='Yes, I am a chatbot designed to help you with a variety of tasks and questions. I am still under development, but I am learning new things every day. How can I help you today?', response_metadata={'prompt_feedback': {'block_reason': 0, 'safety_ratings': []}, 'finish_reason': 'STOP', 'safety_ratings': [{'category': 'HARM_CATEGORY_SEXUALLY_EXPLICIT', 'probability': 'NEGLIGIBLE', 'blocked': False}, {'category': 'HARM_CATEGORY_HATE_SPEECH', 'probability': 'NEGLIGIBLE', 'blocked': False}, {'category': 'HARM_CATEGORY_HARASSMENT', 'probability': 'NEGLIGIBLE', 'blocked': False}, {'category': 'HARM_CATEGORY_DANGEROUS_CONTENT', 'probability': 'NEGLIGIBLE', 'blocked': False}]}, id='run-f749d641-6d8e-4831-9eee-d894d8bceacf-0', usage_metadata={'input_tokens': 2007, 'output_tokens': 40, 'total_tokens': 2047})]}}\n"
     ]
    }
   ],
   "source": [
    "for chunk in agent_executor.stream({\"messages\":[HumanMessage(content=\"you are helpful chatbot?\")]},config):\n",
    "    print(chunk)"
   ]
  },
  {
   "cell_type": "code",
   "execution_count": 47,
   "metadata": {},
   "outputs": [
    {
     "name": "stdout",
     "output_type": "stream",
     "text": [
      "{'agent': {'messages': [AIMessage(content='I am a chatbot designed to help you with a variety of tasks and questions. I am still under development, but I am learning new things every day. How can I help you today?', response_metadata={'prompt_feedback': {'block_reason': 0, 'safety_ratings': []}, 'finish_reason': 'STOP', 'safety_ratings': [{'category': 'HARM_CATEGORY_SEXUALLY_EXPLICIT', 'probability': 'NEGLIGIBLE', 'blocked': False}, {'category': 'HARM_CATEGORY_HATE_SPEECH', 'probability': 'NEGLIGIBLE', 'blocked': False}, {'category': 'HARM_CATEGORY_HARASSMENT', 'probability': 'NEGLIGIBLE', 'blocked': False}, {'category': 'HARM_CATEGORY_DANGEROUS_CONTENT', 'probability': 'NEGLIGIBLE', 'blocked': False}]}, id='run-b94f642e-7036-4f0a-b8e7-c0fc0ce5cebe-0', usage_metadata={'input_tokens': 2053, 'output_tokens': 38, 'total_tokens': 2091})]}}\n"
     ]
    }
   ],
   "source": [
    "for chunk in agent_executor.stream({\"messages\":[HumanMessage(content=\"who are you??\")]},config):\n",
    "    print(chunk)"
   ]
  },
  {
   "cell_type": "code",
   "execution_count": 48,
   "metadata": {},
   "outputs": [
    {
     "name": "stdout",
     "output_type": "stream",
     "text": [
      "{'agent': {'messages': [AIMessage(content='Nice to meet you, Asif! How can I help you today?', response_metadata={'prompt_feedback': {'block_reason': 0, 'safety_ratings': []}, 'finish_reason': 'STOP', 'safety_ratings': [{'category': 'HARM_CATEGORY_SEXUALLY_EXPLICIT', 'probability': 'NEGLIGIBLE', 'blocked': False}, {'category': 'HARM_CATEGORY_HATE_SPEECH', 'probability': 'NEGLIGIBLE', 'blocked': False}, {'category': 'HARM_CATEGORY_HARASSMENT', 'probability': 'NEGLIGIBLE', 'blocked': False}, {'category': 'HARM_CATEGORY_DANGEROUS_CONTENT', 'probability': 'NEGLIGIBLE', 'blocked': False}]}, id='run-f91eb1d2-b9fe-4adc-8abd-dddfd7584dec-0', usage_metadata={'input_tokens': 2100, 'output_tokens': 15, 'total_tokens': 2115})]}}\n"
     ]
    }
   ],
   "source": [
    "for chunk in agent_executor.stream({\"messages\":[HumanMessage(content=\"Hi , i am asif!\")]},config):\n",
    "    print(chunk)"
   ]
  },
  {
   "cell_type": "code",
   "execution_count": 50,
   "metadata": {},
   "outputs": [
    {
     "name": "stdout",
     "output_type": "stream",
     "text": [
      "{'agent': {'messages': [AIMessage(content='', additional_kwargs={'function_call': {'name': 'tavily_search_results_json', 'arguments': '{\"query\": \"weather in Dubai\"}'}}, response_metadata={'prompt_feedback': {'block_reason': 0, 'safety_ratings': []}, 'finish_reason': 'STOP', 'safety_ratings': [{'category': 'HARM_CATEGORY_SEXUALLY_EXPLICIT', 'probability': 'NEGLIGIBLE', 'blocked': False}, {'category': 'HARM_CATEGORY_HATE_SPEECH', 'probability': 'NEGLIGIBLE', 'blocked': False}, {'category': 'HARM_CATEGORY_HARASSMENT', 'probability': 'NEGLIGIBLE', 'blocked': False}, {'category': 'HARM_CATEGORY_DANGEROUS_CONTENT', 'probability': 'NEGLIGIBLE', 'blocked': False}]}, id='run-14dc1ce8-b37a-470a-9670-657c3b556c2c-0', tool_calls=[{'name': 'tavily_search_results_json', 'args': {'query': 'weather in Dubai'}, 'id': 'b483968f-7648-46b4-9c62-ee7689bee113', 'type': 'tool_call'}], usage_metadata={'input_tokens': 2856, 'output_tokens': 22, 'total_tokens': 2878})]}}\n",
      "{'tools': {'messages': [ToolMessage(content='[{\"url\": \"https://www.weatherapi.com/\", \"content\": \"{\\'location\\': {\\'name\\': \\'Dubai\\', \\'region\\': \\'Dubai\\', \\'country\\': \\'United Arab Emirates\\', \\'lat\\': 25.25, \\'lon\\': 55.28, \\'tz_id\\': \\'Asia/Dubai\\', \\'localtime_epoch\\': 1724748879, \\'localtime\\': \\'2024-08-27 12:54\\'}, \\'current\\': {\\'last_updated_epoch\\': 1724748300, \\'last_updated\\': \\'2024-08-27 12:45\\', \\'temp_c\\': 37.1, \\'temp_f\\': 98.8, \\'is_day\\': 1, \\'condition\\': {\\'text\\': \\'Overcast\\', \\'icon\\': \\'//cdn.weatherapi.com/weather/64x64/day/122.png\\', \\'code\\': 1009}, \\'wind_mph\\': 12.5, \\'wind_kph\\': 20.2, \\'wind_degree\\': 340, \\'wind_dir\\': \\'NNW\\', \\'pressure_mb\\': 998.0, \\'pressure_in\\': 29.47, \\'precip_mm\\': 0.0, \\'precip_in\\': 0.0, \\'humidity\\': 60, \\'cloud\\': 0, \\'feelslike_c\\': 48.1, \\'feelslike_f\\': 118.5, \\'windchill_c\\': 35.7, \\'windchill_f\\': 96.2, \\'heatindex_c\\': 44.2, \\'heatindex_f\\': 111.5, \\'dewpoint_c\\': 24.7, \\'dewpoint_f\\': 76.5, \\'vis_km\\': 4.5, \\'vis_miles\\': 2.0, \\'uv\\': 9.0, \\'gust_mph\\': 23.3, \\'gust_kph\\': 37.5}}\"}, {\"url\": \"https://www.meteoprog.com/weather/Dubaj/month/august/\", \"content\": \"Dubai (United Arab Emirates) weather in August 2024 \\\\u2600\\\\ufe0f Accurate weather forecast for Dubai in August \\\\u26c5 Detailed forecast By month Current temperature \\\\\"near me\\\\\" Weather news \\\\u22b3 Widget of weather \\\\u22b3 Water temperature | METEOPROG. Meteoprog.com. ... 27 August +41 \\\\u00b0+31\\\\u00b0 28 August +41 ...\"}]', name='tavily_search_results_json', tool_call_id='b483968f-7648-46b4-9c62-ee7689bee113', artifact={'query': 'weather in Dubai', 'follow_up_questions': None, 'answer': None, 'images': [], 'results': [{'title': 'Weather in Dubai', 'url': 'https://www.weatherapi.com/', 'content': \"{'location': {'name': 'Dubai', 'region': 'Dubai', 'country': 'United Arab Emirates', 'lat': 25.25, 'lon': 55.28, 'tz_id': 'Asia/Dubai', 'localtime_epoch': 1724748879, 'localtime': '2024-08-27 12:54'}, 'current': {'last_updated_epoch': 1724748300, 'last_updated': '2024-08-27 12:45', 'temp_c': 37.1, 'temp_f': 98.8, 'is_day': 1, 'condition': {'text': 'Overcast', 'icon': '//cdn.weatherapi.com/weather/64x64/day/122.png', 'code': 1009}, 'wind_mph': 12.5, 'wind_kph': 20.2, 'wind_degree': 340, 'wind_dir': 'NNW', 'pressure_mb': 998.0, 'pressure_in': 29.47, 'precip_mm': 0.0, 'precip_in': 0.0, 'humidity': 60, 'cloud': 0, 'feelslike_c': 48.1, 'feelslike_f': 118.5, 'windchill_c': 35.7, 'windchill_f': 96.2, 'heatindex_c': 44.2, 'heatindex_f': 111.5, 'dewpoint_c': 24.7, 'dewpoint_f': 76.5, 'vis_km': 4.5, 'vis_miles': 2.0, 'uv': 9.0, 'gust_mph': 23.3, 'gust_kph': 37.5}}\", 'score': 0.9999206, 'raw_content': None}, {'title': 'Dubai weather in August 2024 - METEOPROG.COM', 'url': 'https://www.meteoprog.com/weather/Dubaj/month/august/', 'content': 'Dubai (United Arab Emirates) weather in August 2024 ☀️ Accurate weather forecast for Dubai in August ⛅ Detailed forecast By month Current temperature \"near me\" Weather news ⊳ Widget of weather ⊳ Water temperature | METEOPROG. Meteoprog.com. ... 27 August +41 °+31° 28 August +41 ...', 'score': 0.99961406, 'raw_content': None}], 'response_time': 3.12})]}}\n",
      "{'agent': {'messages': [AIMessage(content='The current weather in Dubai is overcast with a temperature of 37.1 degrees Celsius or 98.8 degrees Fahrenheit.', response_metadata={'prompt_feedback': {'block_reason': 0, 'safety_ratings': []}, 'finish_reason': 'STOP', 'safety_ratings': [{'category': 'HARM_CATEGORY_SEXUALLY_EXPLICIT', 'probability': 'NEGLIGIBLE', 'blocked': False}, {'category': 'HARM_CATEGORY_HATE_SPEECH', 'probability': 'NEGLIGIBLE', 'blocked': False}, {'category': 'HARM_CATEGORY_HARASSMENT', 'probability': 'NEGLIGIBLE', 'blocked': False}, {'category': 'HARM_CATEGORY_DANGEROUS_CONTENT', 'probability': 'NEGLIGIBLE', 'blocked': False}]}, id='run-c988bd4c-5526-49a6-8d4b-7a05b1264cb8-0', usage_metadata={'input_tokens': 3542, 'output_tokens': 27, 'total_tokens': 3569})]}}\n"
     ]
    }
   ],
   "source": [
    "for chunk in agent_executor.stream({\"messages\":[HumanMessage(content=\"I live in Dubai!\")]},config):\n",
    "    print(chunk)"
   ]
  }
 ],
 "metadata": {
  "kernelspec": {
   "display_name": "Python 3",
   "language": "python",
   "name": "python3"
  },
  "language_info": {
   "codemirror_mode": {
    "name": "ipython",
    "version": 3
   },
   "file_extension": ".py",
   "mimetype": "text/x-python",
   "name": "python",
   "nbconvert_exporter": "python",
   "pygments_lexer": "ipython3",
   "version": "3.10.0"
  }
 },
 "nbformat": 4,
 "nbformat_minor": 2
}
